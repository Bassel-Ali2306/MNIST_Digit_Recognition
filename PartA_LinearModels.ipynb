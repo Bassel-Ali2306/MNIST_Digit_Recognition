{
 "cells": [
  {
   "cell_type": "markdown",
   "metadata": {},
   "source": [
    "# 🧠 Machine Learning Assignment 2 – Part A\n",
    "### Logistic & Softmax Regression using PyTorch\n",
    "\n",
    "This notebook implements:\n",
    "- **A1:** Data Preparation (MNIST, 60/20/20 split)\n",
    "- **A2:** Logistic Regression (Binary 0 vs 1)\n",
    "- **A3:** Softmax Regression (Multi-class 0–9)\n",
    "\n",
    "We’ll use PyTorch, NumPy, and Matplotlib to implement both models and visualize training progress."
   ]
  },
  {
   "cell_type": "code",
   "metadata": {},
   "source": [
    "# --- IMPORTS & SETUP ---\n",
    "import torch\n",
    "import torch.nn as nn\n",
    "import torch.optim as optim\n",
    "from torchvision import datasets, transforms\n",
    "from torch.utils.data import DataLoader, TensorDataset\n",
    "from sklearn.model_selection import train_test_split\n",
    "from sklearn.metrics import confusion_matrix, classification_report\n",
    "import matplotlib.pyplot as plt\n",
    "\n",
    "plt.rcParams['figure.figsize'] = (10,5)\n",
    "print('✅ Libraries imported successfully')"
   ]
  },
  {
   "cell_type": "markdown",
   "metadata": {},
   "source": [
    "## 🧩 Part A1 – Data Preparation\n",
    "\n",
    "- Load MNIST dataset (70,000 samples)\n",
    "- Normalize and flatten the images (28×28 → 784)\n",
    "- Perform a **stratified split**: 60% train, 20% validation, 20% test"
   ]
  },
  {
   "cell_type": "code",
   "metadata": {},
   "source": [
    "transform = transforms.Compose([transforms.ToTensor()])\n",
    "\n",
    "train_data = datasets.MNIST(root='./data', train=True, download=False, transform=transform)\n",
    "test_data = datasets.MNIST(root='./data', train=False, download=False, transform=transform)\n",
    "\n",
    "X = torch.cat([train_data.data, test_data.data], dim=0)\n",
    "y = torch.cat([train_data.targets, test_data.targets], dim=0)\n",
    "\n",
    "X = X.float() / 255.0\n",
    "X_flat = X.view(-1, 28*28)\n",
    "\n",
    "# Stratified 60/20/20 split\n",
    "X_train, X_temp, y_train, y_temp = train_test_split(X_flat, y, test_size=0.4, stratify=y, random_state=42)\n",
    "X_val, X_test, y_val, y_test = train_test_split(X_temp, y_temp, test_size=0.5, stratify=y_temp, random_state=42)\n",
    "\n",
    "print(f'Train samples: {len(X_train)}')\n",
    "print(f'Validation samples: {len(X_val)}')\n",
    "print(f'Test samples: {len(X_test)}')"
   ]
  },
  {
   "cell_type": "markdown",
   "metadata": {},
   "source": [
    "## ⚙️ Part A2 – Logistic Regression (Binary Classification 0 vs 1)\n",
    "\n",
    "We’ll now train a logistic regression model to distinguish between digits **0 and 1**.\n",
    "\n",
    "**Steps:**\n",
    "1. Filter the dataset for digits 0 and 1.\n",
    "2. Define logistic regression with sigmoid activation.\n",
    "3. Train using **Binary Cross-Entropy Loss (BCELoss)**.\n",
    "4. Plot loss and accuracy curves.\n",
    "5. Evaluate on test data."
   ]
  },
  {
   "cell_type": "code",
   "metadata": {},
   "source": [
    "# --- Helper function to filter specific digits (0 and 1) ---\n",
    "def filter_digits(X, y, digits=(0, 1)):\n",
    "    mask = (y == digits[0]) | (y == digits[1])\n",
    "    return X[mask], y[mask]\n",
    "\n",
    "X_train_bin, y_train_bin = filter_digits(X_train, y_train)\n",
    "X_val_bin, y_val_bin = filter_digits(X_val, y_val)\n",
    "X_test_bin, y_test_bin = filter_digits(X_test, y_test)\n",
    "\n",
    "y_train_bin = y_train_bin.float().unsqueeze(1)\n",
    "y_val_bin = y_val_bin.float().unsqueeze(1)\n",
    "y_test_bin = y_test_bin.float().unsqueeze(1)\n",
    "\n",
    "batch_size = 64\n",
    "train_loader = DataLoader(TensorDataset(X_train_bin, y_train_bin), batch_size=batch_size, shuffle=True)\n",
    "val_loader = DataLoader(TensorDataset(X_val_bin, y_val_bin), batch_size=batch_size, shuffle=False)\n",
    "test_loader = DataLoader(TensorDataset(X_test_bin, y_test_bin), batch_size=batch_size, shuffle=False)\n",
    "\n",
    "print(f'Filtered binary training samples: {len(X_train_bin)}')"
   ]
  },
  {
   "cell_type": "code",
   "metadata": {},
   "source": [
    "# --- Logistic Regression Model ---\n",
    "class LogisticRegressionModel(nn.Module):\n",
    "    def __init__(self):\n",
    "        super().__init__()\n",
    "        self.linear = nn.Linear(784, 1)\n",
    "    def forward(self, x):\n",
    "        return torch.sigmoid(self.linear(x))\n",
    "\n",
    "model = LogisticRegressionModel()\n",
    "criterion = nn.BCELoss()\n",
    "optimizer = optim.SGD(model.parameters(), lr=0.01)"
   ]
  },
  {
   "cell_type": "code",
   "metadata": {},
   "source": [
    "# --- Training ---\n",
    "epochs = 10\n",
    "train_losses, val_losses, train_accs, val_accs = [], [], [], []\n",
    "\n",
    "for epoch in range(epochs):\n",
    "    model.train()\n",
    "    total_loss, correct, total = 0, 0, 0\n",
    "    for images, labels in train_loader:\n",
    "        optimizer.zero_grad()\n",
    "        outputs = model(images)\n",
    "        loss = criterion(outputs, labels)\n",
    "        loss.backward()\n",
    "        optimizer.step()\n",
    "        total_loss += loss.item()\n",
    "        preds = (outputs >= 0.5).float()\n",
    "        correct += (preds == labels).sum().item()\n",
    "        total += labels.size(0)\n",
    "\n",
    "    train_loss = total_loss / len(train_loader)\n",
    "    train_acc = correct / total\n",
    "\n",
    "    model.eval()\n",
    "    val_loss, correct, total = 0, 0, 0\n",
    "    with torch.no_grad():\n",
    "        for images, labels in val_loader:\n",
    "            outputs = model(images)\n",
    "            loss = criterion(outputs, labels)\n",
    "            val_loss += loss.item()\n",
    "            preds = (outputs >= 0.5).float()\n",
    "            correct += (preds == labels).sum().item()\n",
    "            total += labels.size(0)\n",
    "\n",
    "    val_loss /= len(val_loader)\n",
    "    val_acc = correct / total\n",
    "    train_losses.append(train_loss)\n",
    "    val_losses.append(val_loss)\n",
    "    train_accs.append(train_acc)\n",
    "    val_accs.append(val_acc)\n",
    "\n",
    "    print(f\"Epoch {epoch+1}/{epochs} | Train Loss: {train_loss:.4f}, Val Loss: {val_loss:.4f} | Train Acc: {train_acc:.4f}, Val Acc: {val_acc:.4f}\")"
   ]
  },
  {
   "cell_type": "code",
   "metadata": {},
   "source": [
    "# --- Plot Curves ---\n",
    "plt.subplot(1,2,1)\n",
    "plt.plot(train_losses, label='Train Loss')\n",
    "plt.plot(val_losses, label='Val Loss')\n",
    "plt.legend(); plt.title('Loss Curves')\n",
    "plt.subplot(1,2,2)\n",
    "plt.plot(train_accs, label='Train Acc')\n",
    "plt.plot(val_accs, label='Val Acc')\n",
    "plt.legend(); plt.title('Accuracy Curves')\n",
    "plt.show()"
   ]
  },
  {
   "cell_type": "code",
   "metadata": {},
   "source": [
    "# --- Test Evaluation ---\n",
    "model.eval()\n",
    "correct, total = 0, 0\n",
    "all_preds, all_labels = [], []\n",
    "with torch.no_grad():\n",
    "    for images, labels in test_loader:\n",
    "        outputs = model(images)\n",
    "        preds = (outputs >= 0.5).float()\n",
    "        all_preds.extend(preds.squeeze().numpy())\n",
    "        all_labels.extend(labels.squeeze().numpy())\n",
    "        correct += (preds == labels).sum().item()\n",
    "        total += labels.size(0)\n",
    "\n",
    "test_acc = correct / total\n",
    "print(f\"Final Test Accuracy (0 vs 1): {test_acc:.4f}\")\n",
    "cm = confusion_matrix(all_labels, all_preds)\n",
    "plt.imshow(cm, cmap='Blues')\n",
    "plt.title('Confusion Matrix – Binary (0 vs 1)')\n",
    "plt.xlabel('Predicted')\n",
    "plt.ylabel('Actual')\n",
    "plt.colorbar()\n",
    "plt.show()"
   ]
  },
  {
   "cell_type": "markdown",
   "metadata": {},
   "source": [
    "## 🔢 Part A3 – Softmax Regression (Multi-class Classification 0–9)\n",
    "\n",
    "Now we extend to classify **all 10 digits** using **Softmax Regression**.\n",
    "\n",
    "- Model: Single linear layer (784 → 10)\n",
    "- Loss: CrossEntropyLoss (which applies softmax internally)\n",
    "- Metrics: Accuracy, confusion matrix, per-class report"
   ]
  },
  {
   "cell_type": "code",
   "metadata": {},
   "source": [
    "# Convert labels to long (required for CrossEntropyLoss)\n",
    "y_train_long = y_train.long()\n",
    "y_val_long = y_val.long()\n",
    "y_test_long = y_test.long()\n",
    "\n",
    "train_loader = DataLoader(TensorDataset(X_train, y_train_long), batch_size=batch_size, shuffle=True)\n",
    "val_loader = DataLoader(TensorDataset(X_val, y_val_long), batch_size=batch_size, shuffle=False)\n",
    "test_loader = DataLoader(TensorDataset(X_test, y_test_long), batch_size=batch_size, shuffle=False)"
   ]
  },
  {
   "cell_type": "code",
   "metadata": {},
   "source": [
    "# --- Softmax Regression Model ---\n",
    "class SoftmaxRegressionModel(nn.Module):\n",
    "    def __init__(self):\n",
    "        super().__init__()\n",
    "        self.linear = nn.Linear(784, 10)\n",
    "    def forward(self, x):\n",
    "        return self.linear(x)\n",
    "\n",
    "model = SoftmaxRegressionModel()\n",
    "criterion = nn.CrossEntropyLoss()\n",
    "optimizer = optim.SGD(model.parameters(), lr=0.01)"
   ]
  },
  {
   "cell_type": "code",
   "metadata": {},
   "source": [
    "# --- Training Loop ---\n",
    "epochs = 10\n",
    "train_losses, val_losses, train_accs, val_accs = [], [], [], []\n",
    "\n",
    "for epoch in range(epochs):\n",
    "    model.train()\n",
    "    total_loss, correct, total = 0, 0, 0\n",
    "    for images, labels in train_loader:\n",
    "        optimizer.zero_grad()\n",
    "        outputs = model(images)\n",
    "        loss = criterion(outputs, labels)\n",
    "        loss.backward()\n",
    "        optimizer.step()\n",
    "        total_loss += loss.item()\n",
    "        preds = outputs.argmax(dim=1)\n",
    "        correct += (preds == labels).sum().item()\n",
    "        total += labels.size(0)\n",
    "\n",
    "    train_loss = total_loss / len(train_loader)\n",
    "    train_acc = correct / total\n",
    "\n",
    "    model.eval()\n",
    "    val_loss, correct, total = 0, 0, 0\n",
    "    with torch.no_grad():\n",
    "        for images, labels in val_loader:\n",
    "            outputs = model(images)\n",
    "            loss = criterion(outputs, labels)\n",
    "            val_loss += loss.item()\n",
    "            preds = outputs.argmax(dim=1)\n",
    "            correct += (preds == labels).sum().item()\n",
    "            total += labels.size(0)\n",
    "\n",
    "    val_loss /= len(val_loader)\n",
    "    val_acc = correct / total\n",
    "    train_losses.append(train_loss)\n",
    "    val_losses.append(val_loss)\n",
    "    train_accs.append(train_acc)\n",
    "    val_accs.append(val_acc)\n",
    "\n",
    "    print(f\"Epoch {epoch+1}/{epochs} | Train Loss: {train_loss:.4f}, Val Loss: {val_loss:.4f} | Train Acc: {train_acc:.4f}, Val Acc: {val_acc:.4f}\")"
   ]
  },
  {
   "cell_type": "code",
   "metadata": {},
   "source": [
    "# --- Plot Curves ---\n",
    "plt.subplot(1,2,1)\n",
    "plt.plot(train_losses, label='Train Loss')\n",
    "plt.plot(val_losses, label='Val Loss')\n",
    "plt.legend(); plt.title('Softmax Regression – Loss')\n",
    "plt.subplot(1,2,2)\n",
    "plt.plot(train_accs, label='Train Acc')\n",
    "plt.plot(val_accs, label='Val Acc')\n",
    "plt.legend(); plt.title('Softmax Regression – Accuracy')\n",
    "plt.show()"
   ]
  },
  {
   "cell_type": "code",
   "metadata": {},
   "source": [
    "# --- Evaluate on Test Set ---\n",
    "model.eval()\n",
    "all_preds, all_labels = [], []\n",
    "with torch.no_grad():\n",
    "    for images, labels in test_loader:\n",
    "        outputs = model(images)\n",
    "        preds = outputs.argmax(dim=1)\n",
    "        all_preds.extend(preds.numpy())\n",
    "        all_labels.extend(labels.numpy())\n",
    "\n",
    "cm = confusion_matrix(all_labels, all_preds)\n",
    "plt.imshow(cm, cmap='Blues')\n",
    "plt.title('Confusion Matrix – Softmax (0–9)')\n",
    "plt.xlabel('Predicted')\n",
    "plt.ylabel('Actual')\n",
    "plt.colorbar()\n",
    "plt.show()\n",
    "\n",
    "print('\\nClassification Report:')\n",
    "print(classification_report(all_labels, all_preds, digits=4))"
   ]
  }
 ],
 "metadata": {
  "kernelspec": {
   "display_name": "Python 3",
   "language": "python",
   "name": "python3"
  },
  "language_info": {
   "name": "python",
   "version": "3.x"
  }
 },
 "nbformat": 4,
 "nbformat_minor": 2
}
